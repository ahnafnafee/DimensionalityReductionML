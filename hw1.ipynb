{
 "cells": [
  {
   "cell_type": "markdown",
   "metadata": {},
   "source": [
    "# Dimensionality Reduction\n"
   ]
  },
  {
   "cell_type": "markdown",
   "metadata": {},
   "source": [
    "### Question 1"
   ]
  },
  {
   "cell_type": "code",
   "execution_count": 368,
   "metadata": {},
   "outputs": [
    {
     "name": "stdout",
     "output_type": "stream",
     "text": [
      "Principal Components:\n",
      " [[ 0.70710678 -0.70710678]\n",
      " [ 0.70710678  0.70710678]]\n",
      "Projected 1D Matrix:\n",
      " [-0.19166297 -1.53330376  0.76665188 -1.53330376  0.76665188 -0.57498891\n",
      " -0.57498891  0.76665188  0.38332594  1.72496673]\n"
     ]
    }
   ],
   "source": [
    "import numpy as np\n",
    "from scipy.linalg import svd\n",
    "import scipy.stats as ss\n",
    "import matplotlib.pyplot as plt\n",
    "import scipy.linalg as la\n",
    "\n",
    "X = np.array([[0,1],\n",
    "              [0,0],\n",
    "              [1,1],\n",
    "              [0,0],\n",
    "              [1,1],\n",
    "              [1,0],\n",
    "              [1,0],\n",
    "              [1,1],\n",
    "              [2,0],\n",
    "              [2,1]])\n",
    "\n",
    "mean_mat = 0\n",
    "std_mat = 0\n",
    "\n",
    "# Standardizing the matrix\n",
    "standardized_mat = np.array(ss.zscore(X, axis=0, ddof=1))\n",
    "\n",
    "# Finding covariance\n",
    "cov_mat = np.cov(standardized_mat.T)\n",
    "\n",
    "# Finding Eigenvalues $ Eigenvectors\n",
    "eig_val, eig_vec = np.linalg.eig(cov_mat)\n",
    "\n",
    "print(\"Principal Components:\\n\", eig_vec)\n",
    "\n",
    "# Reducing data to 2D\n",
    "projected_mat = (eig_vec.T[:][0]).T\n",
    "pca_mat = np.dot(standardized_mat, projected_mat)\n",
    "\n",
    "print(\"Projected 1D Matrix:\\n\", pca_mat)"
   ]
  },
  {
   "cell_type": "markdown",
   "metadata": {},
   "source": [
    "### Question 2"
   ]
  },
  {
   "cell_type": "code",
   "execution_count": 363,
   "metadata": {
    "scrolled": false
   },
   "outputs": [
    {
     "data": {
      "image/png": "[encoded data removed]",
      "text/plain": [
       "<Figure size 360x288 with 1 Axes>"
      ]
     },
     "metadata": {
      "needs_background": "light"
     },
     "output_type": "display_data"
    }
   ],
   "source": [
    "import numpy as np\n",
    "import glob\n",
    "import cv2\n",
    "from matplotlib.image import imread\n",
    "from matplotlib import pyplot as plt\n",
    "\n",
    "std_mat = 0\n",
    "mean_mat = 0\n",
    "dim = (40, 40)\n",
    "data_matrix = np.zeros(shape=(0,1600))\n",
    "img_list = [f for f in glob.glob(\".\\yalefaces\\subject*\")]\n",
    "\n",
    "# Adding images to data matrix\n",
    "for i in img_list:\n",
    "    img = imread(i)\n",
    "    resized = cv2.resize(img, dim, interpolation = cv2.INTER_AREA)\n",
    "    flattened = resized.reshape([1, 1600])\n",
    "    data_matrix = np.append(data_matrix, flattened, axis=0)\n",
    "\n",
    "    \n",
    "# Standardizing the matrix\n",
    "def standardize(matrix):\n",
    "    global std_mat\n",
    "    global mean_mat\n",
    "    \n",
    "    std_mat = np.std(data_matrix, axis=0, ddof=1)\n",
    "    mean_mat = np.mean(data_matrix, axis=0)\n",
    "    standardized_matrix = (data_matrix - mean_mat)/std_mat\n",
    "    return standardized_matrix\n",
    "\n",
    "\n",
    "# Calculate PCA\n",
    "def pca(matrix, n_dim):\n",
    "    # Finding covariance\n",
    "    cov_mat = np.cov(matrix.T)\n",
    "    \n",
    "    # Finding Eigenvalues $ Eigenvectors\n",
    "    eig_val, eig_vec = np.linalg.eig(cov_mat)\n",
    "    eig_val, eig_vec = eig_val.real, eig_vec.real\n",
    "    \n",
    "    # Reducing data to n-th dim\n",
    "    projected_mat = (eig_vec.T[:][0:n_dim]).T\n",
    "    pca_mat = np.dot(matrix, projected_mat)\n",
    "    return pca_mat\n",
    "\n",
    "\n",
    "standardized_mat = standardize(data_matrix)\n",
    "pca_matrix = pca(standardized_mat, 2)\n",
    "\n",
    "# Plotting Data\n",
    "plt.axis([-70, 50, -20, 60])\n",
    "plt.title('2D PCA projection of data') \n",
    "plt.scatter(pca_matrix[:,0], pca_matrix[:,1], c='w', alpha=0.5, edgecolors='blue')\n",
    "plt.rcParams[\"figure.figsize\"] = (5,4)\n",
    "#plt.savefig('.\\images\\q2_scatterplot.png', dpi=100)\n"
   ]
  },
  {
   "cell_type": "markdown",
   "metadata": {},
   "source": [
    "### Question 3"
   ]
  },
  {
   "cell_type": "code",
   "execution_count": 362,
   "metadata": {},
   "outputs": [],
   "source": [
    "from cv2 import VideoWriter, VideoWriter_fourcc\n",
    "\n",
    "\n",
    "# subject02.centerlight\n",
    "img = standardized_mat[0]\n",
    "\n",
    "# Video metadata\n",
    "width = 40\n",
    "height = 40\n",
    "FPS = 1\n",
    "seconds = 154\n",
    "\n",
    "# Video codec and writer\n",
    "fourcc = VideoWriter_fourcc(*'MP42')\n",
    "video = VideoWriter('./video.avi', fourcc, float(FPS), (width, height))\n",
    "\n",
    "for i in range((FPS * seconds) + 1):\n",
    "    proj_img = np.dot(eig_vec.T[:][0:i], img)\n",
    "    rec_img = np.dot(eig_vec.T[:][0:i].T, proj_img)\n",
    "    rec_img *= std_mat\n",
    "    rec_img += mean_mat\n",
    "    resized = rec_img.reshape(40, 40)\n",
    "    frame = cv2.cvtColor(resized.astype(np.uint8), cv2.COLOR_BGR2RGB)\n",
    "    video.write(frame)\n",
    "\n",
    "video.release()\n"
   ]
  }
 ],
 "metadata": {
  "kernelspec": {
   "display_name": "Python 3",
   "language": "python",
   "name": "python3"
  },
  "language_info": {
   "codemirror_mode": {
    "name": "ipython",
    "version": 3
   },
   "file_extension": ".py",
   "mimetype": "text/x-python",
   "name": "python",
   "nbconvert_exporter": "python",
   "pygments_lexer": "ipython3",
   "version": "3.8.5"
  }
 },
 "nbformat": 4,
 "nbformat_minor": 4
}
